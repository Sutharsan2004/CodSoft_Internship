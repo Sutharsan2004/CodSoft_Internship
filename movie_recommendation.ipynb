{
 "cells": [
  {
   "cell_type": "code",
   "execution_count": 21,
   "metadata": {},
   "outputs": [],
   "source": [
    "import pandas as pd\n",
    "import numpy as np\n",
    "from sklearn.feature_extraction.text import TfidfVectorizer\n",
    "from sklearn.metrics.pairwise import cosine_similarity"
   ]
  },
  {
   "cell_type": "code",
   "execution_count": 22,
   "metadata": {},
   "outputs": [
    {
     "name": "stdout",
     "output_type": "stream",
     "text": [
      "   movieId                               title  \\\n",
      "0        1                    Toy Story (1995)   \n",
      "1        2                      Jumanji (1995)   \n",
      "2        3             Grumpier Old Men (1995)   \n",
      "3        4            Waiting to Exhale (1995)   \n",
      "4        5  Father of the Bride Part II (1995)   \n",
      "\n",
      "                                        genres  \n",
      "0  Adventure|Animation|Children|Comedy|Fantasy  \n",
      "1                   Adventure|Children|Fantasy  \n",
      "2                               Comedy|Romance  \n",
      "3                         Comedy|Drama|Romance  \n",
      "4                                       Comedy  \n"
     ]
    }
   ],
   "source": [
    "df1 = pd.read_csv(r\"C:\\Users\\Student\\Desktop\\Sutharsan_N_Internship\\Recommendation_System\\movie\\movie_recommendation_dataset\\movies.csv\")\n",
    "print(df1.head())"
   ]
  },
  {
   "cell_type": "code",
   "execution_count": 23,
   "metadata": {},
   "outputs": [
    {
     "data": {
      "text/plain": [
       "movieId    0\n",
       "title      0\n",
       "genres     0\n",
       "dtype: int64"
      ]
     },
     "execution_count": 23,
     "metadata": {},
     "output_type": "execute_result"
    }
   ],
   "source": [
    "df1.isna().sum()"
   ]
  },
  {
   "cell_type": "code",
   "execution_count": 24,
   "metadata": {},
   "outputs": [],
   "source": [
    "import re\n",
    "#cleaning dataset\n",
    "def clean_title(title):\n",
    "    return re.sub(\"[^a-zA-Z0-9 ]\", \"\", title)"
   ]
  },
  {
   "cell_type": "code",
   "execution_count": 25,
   "metadata": {},
   "outputs": [
    {
     "name": "stdout",
     "output_type": "stream",
     "text": [
      "   movieId                       clean_title  \\\n",
      "0        1                    Toy Story 1995   \n",
      "1        2                      Jumanji 1995   \n",
      "2        3             Grumpier Old Men 1995   \n",
      "3        4            Waiting to Exhale 1995   \n",
      "4        5  Father of the Bride Part II 1995   \n",
      "\n",
      "                                   genres_list  \n",
      "0  Adventure Animation Children Comedy Fantasy  \n",
      "1                   Adventure Children Fantasy  \n",
      "2                               Comedy Romance  \n",
      "3                         Comedy Drama Romance  \n",
      "4                                       Comedy  \n"
     ]
    }
   ],
   "source": [
    "df1['genres_list'] = df1['genres'].str.replace('|', ' ')\n",
    "df1['clean_title'] = df1['title'].apply(clean_title)\n",
    "\n",
    "movies_data = df1[['movieId', 'clean_title', 'genres_list']]\n",
    "print(movies_data.head())"
   ]
  },
  {
   "cell_type": "code",
   "execution_count": 26,
   "metadata": {},
   "outputs": [
    {
     "name": "stdout",
     "output_type": "stream",
     "text": [
      "   userId  movieId  rating   timestamp\n",
      "0       1      296     5.0  1147880044\n",
      "1       1      306     3.5  1147868817\n",
      "2       1      307     5.0  1147868828\n",
      "3       1      665     5.0  1147878820\n",
      "4       1      899     3.5  1147868510\n"
     ]
    }
   ],
   "source": [
    "df2 = pd.read_csv(r\"C:\\Users\\Student\\Desktop\\Sutharsan_N_Internship\\Recommendation_System\\movie\\movie_recommendation_dataset\\ratings.csv\")\n",
    "print(df2.head())"
   ]
  },
  {
   "cell_type": "code",
   "execution_count": 27,
   "metadata": {},
   "outputs": [
    {
     "data": {
      "text/plain": [
       "userId       0\n",
       "movieId      0\n",
       "rating       0\n",
       "timestamp    0\n",
       "dtype: int64"
      ]
     },
     "execution_count": 27,
     "metadata": {},
     "output_type": "execute_result"
    }
   ],
   "source": [
    "df2.isna().sum()"
   ]
  },
  {
   "cell_type": "code",
   "execution_count": 28,
   "metadata": {},
   "outputs": [
    {
     "name": "stdout",
     "output_type": "stream",
     "text": [
      "   userId  movieId  rating\n",
      "0       1      296     5.0\n",
      "1       1      306     3.5\n",
      "2       1      307     5.0\n",
      "3       1      665     5.0\n",
      "4       1      899     3.5\n"
     ]
    }
   ],
   "source": [
    "ratings_data = df2.drop(['timestamp'], axis=1)\n",
    "print(ratings_data.head())"
   ]
  },
  {
   "cell_type": "code",
   "execution_count": 29,
   "metadata": {},
   "outputs": [
    {
     "name": "stdout",
     "output_type": "stream",
     "text": [
      "   userId  movieId  rating        clean_title                  genres_list\n",
      "0       1      296     5.0  Pulp Fiction 1994  Comedy Crime Drama Thriller\n",
      "1       3      296     5.0  Pulp Fiction 1994  Comedy Crime Drama Thriller\n",
      "2       4      296     4.0  Pulp Fiction 1994  Comedy Crime Drama Thriller\n",
      "3       5      296     4.0  Pulp Fiction 1994  Comedy Crime Drama Thriller\n",
      "4       7      296     4.0  Pulp Fiction 1994  Comedy Crime Drama Thriller\n"
     ]
    }
   ],
   "source": [
    "combined_data = ratings_data.merge(movies_data, on='movieId')\n",
    "print(combined_data.head())"
   ]
  },
  {
   "cell_type": "markdown",
   "metadata": {},
   "source": [
    "# 2. Definition of the Search function"
   ]
  },
  {
   "cell_type": "code",
   "execution_count": 30,
   "metadata": {},
   "outputs": [
    {
     "name": "stdout",
     "output_type": "stream",
     "text": [
      "       movieId               clean_title  \\\n",
      "3021      3114          Toy Story 2 1999   \n",
      "14813    78499          Toy Story 3 2010   \n",
      "0            1            Toy Story 1995   \n",
      "59767   201588          Toy Story 4 2019   \n",
      "20497   106022  Toy Story of Terror 2013   \n",
      "\n",
      "                                            genres_list  \n",
      "3021        Adventure Animation Children Comedy Fantasy  \n",
      "14813  Adventure Animation Children Comedy Fantasy IMAX  \n",
      "0           Adventure Animation Children Comedy Fantasy  \n",
      "59767               Adventure Animation Children Comedy  \n",
      "20497                         Animation Children Comedy  \n"
     ]
    }
   ],
   "source": [
    "vectorizer_title = TfidfVectorizer(ngram_range=(1,2))\n",
    "\n",
    "tfidf_title = vectorizer_title.fit_transform(movies_data['clean_title'])\n",
    "\n",
    "def search_by_title(title):\n",
    "    title = clean_title(title)\n",
    "    query_vec = vectorizer_title.transform([title])\n",
    "    similarity = cosine_similarity(query_vec, tfidf_title).flatten()\n",
    "    indices = np.argpartition(similarity, -5)[-5:]\n",
    "    results = movies_data.iloc[indices][::-1]\n",
    "    return results\n",
    "\n",
    "movie_results = search_by_title(\"Toy Story\")\n",
    "print(movie_results)"
   ]
  },
  {
   "cell_type": "code",
   "execution_count": 31,
   "metadata": {},
   "outputs": [
    {
     "name": "stdout",
     "output_type": "stream",
     "text": [
      "       movieId                                        clean_title  \\\n",
      "25659   124232                          The Fuller Brush Man 1948   \n",
      "2379      2470                              Crocodile Dundee 1986   \n",
      "21378   110223                         Prisoner of Zenda The 1979   \n",
      "37582   152970                     Hunt for the Wilderpeople 2016   \n",
      "5808      5920     Ace of Aces aka Super Ace The As des as L 1982   \n",
      "57227   195905                                     Fools Day 2014   \n",
      "3651      3752                              Me Myself  Irene 2000   \n",
      "53513   187573                      Blondie Takes a Vacation 1939   \n",
      "18675    97665  Asterix  Obelix God Save Britannia Astrix et O...   \n",
      "37581   152968                                        Lusers 2015   \n",
      "\n",
      "            genres_list  \n",
      "25659  Adventure Comedy  \n",
      "2379   Adventure Comedy  \n",
      "21378  Adventure Comedy  \n",
      "37582  Adventure Comedy  \n",
      "5808   Adventure Comedy  \n",
      "57227  Adventure Comedy  \n",
      "3651   Adventure Comedy  \n",
      "53513  Adventure Comedy  \n",
      "18675  Adventure Comedy  \n",
      "37581  Adventure Comedy  \n"
     ]
    }
   ],
   "source": [
    "vectorizer_genres = TfidfVectorizer(ngram_range=(1,2))\n",
    "\n",
    "tfidf_genres = vectorizer_genres.fit_transform(movies_data['genres_list'])\n",
    "\n",
    "def search_similar_genres(genres):\n",
    "    query_vec = vectorizer_genres.transform([genres])\n",
    "    similarity = cosine_similarity(query_vec, tfidf_genres).flatten()\n",
    "    indices = np.argpartition(similarity, -10)[-10:]\n",
    "    results = movies_data.iloc[indices][::-1]\n",
    "    return results\n",
    "\n",
    "gen = 'Adventure Comedy'\n",
    "print(search_similar_genres(gen))"
   ]
  },
  {
   "cell_type": "markdown",
   "metadata": {},
   "source": [
    "# 3. Make the recommendation\n",
    "\n",
    "The following function calculates scores for recommendation."
   ]
  },
  {
   "cell_type": "code",
   "execution_count": 32,
   "metadata": {},
   "outputs": [
    {
     "data": {
      "text/html": [
       "<div>\n",
       "<style scoped>\n",
       "    .dataframe tbody tr th:only-of-type {\n",
       "        vertical-align: middle;\n",
       "    }\n",
       "\n",
       "    .dataframe tbody tr th {\n",
       "        vertical-align: top;\n",
       "    }\n",
       "\n",
       "    .dataframe thead th {\n",
       "        text-align: right;\n",
       "    }\n",
       "</style>\n",
       "<table border=\"1\" class=\"dataframe\">\n",
       "  <thead>\n",
       "    <tr style=\"text-align: right;\">\n",
       "      <th></th>\n",
       "      <th>similar</th>\n",
       "      <th>all</th>\n",
       "      <th>score</th>\n",
       "    </tr>\n",
       "    <tr>\n",
       "      <th>movieId</th>\n",
       "      <th></th>\n",
       "      <th></th>\n",
       "      <th></th>\n",
       "    </tr>\n",
       "  </thead>\n",
       "  <tbody>\n",
       "    <tr>\n",
       "      <th>115875</th>\n",
       "      <td>0.002656</td>\n",
       "      <td>0.000172</td>\n",
       "      <td>15.455353</td>\n",
       "    </tr>\n",
       "    <tr>\n",
       "      <th>115879</th>\n",
       "      <td>0.001557</td>\n",
       "      <td>0.000111</td>\n",
       "      <td>14.043053</td>\n",
       "    </tr>\n",
       "    <tr>\n",
       "      <th>114240</th>\n",
       "      <td>0.000275</td>\n",
       "      <td>0.000022</td>\n",
       "      <td>12.390929</td>\n",
       "    </tr>\n",
       "    <tr>\n",
       "      <th>67009</th>\n",
       "      <td>0.000305</td>\n",
       "      <td>0.000031</td>\n",
       "      <td>9.912743</td>\n",
       "    </tr>\n",
       "    <tr>\n",
       "      <th>7269</th>\n",
       "      <td>0.000305</td>\n",
       "      <td>0.000031</td>\n",
       "      <td>9.912743</td>\n",
       "    </tr>\n",
       "    <tr>\n",
       "      <th>...</th>\n",
       "      <td>...</td>\n",
       "      <td>...</td>\n",
       "      <td>...</td>\n",
       "    </tr>\n",
       "    <tr>\n",
       "      <th>853</th>\n",
       "      <td>0.000061</td>\n",
       "      <td>0.000271</td>\n",
       "      <td>0.225290</td>\n",
       "    </tr>\n",
       "    <tr>\n",
       "      <th>601</th>\n",
       "      <td>0.000061</td>\n",
       "      <td>0.000283</td>\n",
       "      <td>0.215494</td>\n",
       "    </tr>\n",
       "    <tr>\n",
       "      <th>797</th>\n",
       "      <td>0.000061</td>\n",
       "      <td>0.000296</td>\n",
       "      <td>0.206515</td>\n",
       "    </tr>\n",
       "    <tr>\n",
       "      <th>1075</th>\n",
       "      <td>0.000061</td>\n",
       "      <td>0.000339</td>\n",
       "      <td>0.180232</td>\n",
       "    </tr>\n",
       "    <tr>\n",
       "      <th>706</th>\n",
       "      <td>0.000061</td>\n",
       "      <td>0.000437</td>\n",
       "      <td>0.139616</td>\n",
       "    </tr>\n",
       "  </tbody>\n",
       "</table>\n",
       "<p>26405 rows × 3 columns</p>\n",
       "</div>"
      ],
      "text/plain": [
       "          similar       all      score\n",
       "movieId                               \n",
       "115875   0.002656  0.000172  15.455353\n",
       "115879   0.001557  0.000111  14.043053\n",
       "114240   0.000275  0.000022  12.390929\n",
       "67009    0.000305  0.000031   9.912743\n",
       "7269     0.000305  0.000031   9.912743\n",
       "...           ...       ...        ...\n",
       "853      0.000061  0.000271   0.225290\n",
       "601      0.000061  0.000283   0.215494\n",
       "797      0.000061  0.000296   0.206515\n",
       "1075     0.000061  0.000339   0.180232\n",
       "706      0.000061  0.000437   0.139616\n",
       "\n",
       "[26405 rows x 3 columns]"
      ]
     },
     "execution_count": 32,
     "metadata": {},
     "output_type": "execute_result"
    }
   ],
   "source": [
    "def scores_calculator(movie_id):\n",
    "    #find the recommendations from users who like the same movie\n",
    "    similar_users = combined_data[(combined_data['movieId']== movie_id) & (combined_data['rating']>=4)]['userId'].unique()\n",
    "    similar_user_recs = combined_data[(combined_data['userId'].isin(similar_users)) & (combined_data['rating']>=4)]['movieId']\n",
    "    similar_user_recs = similar_user_recs.value_counts() / len(similar_users)\n",
    "    #print(similar_user_recs)\n",
    "    \n",
    "    #find the recommendations from all users who have watch the movies above\n",
    "    all_users = combined_data[(combined_data['movieId'].isin(similar_user_recs.index)) & (combined_data['rating']>=4)]\n",
    "    all_users_recs = all_users['movieId'].value_counts() / all_users['userId'].nunique()\n",
    "    #print(all_users_recs)\n",
    "    \n",
    "    genres_of_selected_movie = combined_data[combined_data['movieId']==movie_id]['genres_list'].unique()\n",
    "    genres_of_selected_movie = np.array2string(genres_of_selected_movie)\n",
    "    movies_with_similar_genres = search_similar_genres(genres_of_selected_movie)\n",
    "    \n",
    "    indices = []\n",
    "    for index in movies_with_similar_genres[(movies_with_similar_genres['movieId'].isin(similar_user_recs.index))]['movieId']:\n",
    "        indices.append(index)\n",
    "    \n",
    "    #times a factor 1.5 to movies with similar genres and similar users\n",
    "    similar_user_recs.loc[indices] = similar_user_recs.loc[indices]*1.5 \n",
    "\n",
    "    #times a factor 0.9 to movies with similar genres and all users\n",
    "    indices = []\n",
    "    for index in movies_with_similar_genres[(movies_with_similar_genres['movieId'].isin(all_users_recs.index))]['movieId']:\n",
    "        indices.append(index)\n",
    "    all_users_recs.loc[indices] = all_users_recs.loc[indices]*0.9\n",
    "    \n",
    "    rec_percentages = pd.concat([similar_user_recs, all_users_recs], axis=1)\n",
    "    rec_percentages.columns = ['similar', 'all']\n",
    "    rec_percentages['score'] = rec_percentages['similar'] / rec_percentages['all']\n",
    "    \n",
    "    rec_percentages = rec_percentages.sort_values('score', ascending=False)\n",
    "    return rec_percentages\n",
    "\n",
    "scores_calculator(3114)"
   ]
  },
  {
   "cell_type": "code",
   "execution_count": 34,
   "metadata": {},
   "outputs": [
    {
     "name": "stdout",
     "output_type": "stream",
     "text": [
      "0: Rush Hour 3 2007\n",
      "1: Rush Hour 2 2001\n",
      "2: Rush Hour 1998\n",
      "3: Rush 2013\n",
      "4: Rush  Rush In Rio 2003\n",
      "\n",
      "We have the following recommendations:\n",
      "                                  title       score  \\\n",
      "52494  Katt Williams Great America 2018  289.883929   \n",
      "49703              The Adventurers 2017  289.883929   \n",
      "29103            Nglen til Paradis 1970  289.883929   \n",
      "56990                        Reich 2001  289.883929   \n",
      "45126                  Zebra Force 1976  289.883929   \n",
      "45598              The Alpha Caper 1973  289.883929   \n",
      "36345                 Sister Smile 2009  289.883929   \n",
      "36235             Le Grand Partage 2015  289.883929   \n",
      "29708        The Battle of Neretva 1969  289.883929   \n",
      "30094                 Without Fail 2014  289.883929   \n",
      "\n",
      "                             genres  \n",
      "52494                        Comedy  \n",
      "49703  Action Adventure Crime Drama  \n",
      "29103                        Comedy  \n",
      "56990                        Action  \n",
      "45126                        Action  \n",
      "45598            (no genres listed)  \n",
      "36345                         Drama  \n",
      "36235                        Comedy  \n",
      "29708                     Drama War  \n",
      "30094                        Comedy  \n"
     ]
    }
   ],
   "source": [
    "def recommendation_results(user_input, title_index):\n",
    "    user_input = clean_title(user_input)\n",
    "    title_candidates = search_by_title(user_input)\n",
    "    movie_id = title_candidates.iloc[title_index]['movieId']\n",
    "    scores = scores_calculator(movie_id)\n",
    "    results = scores.head(10).merge(movies_data, left_index=True, right_on='movieId')[['clean_title', 'score', 'genres_list']]\n",
    "    results = results.rename(columns={'clean_title': 'title', 'genres_list': 'genres'})\n",
    "    return results\n",
    "\n",
    "# Get user input\n",
    "user_input = input(\"Enter a movie title: \")\n",
    "\n",
    "# Display available movie options\n",
    "title_candidates = search_by_title(user_input)\n",
    "for i in range(min(5, len(title_candidates))):  # Show up to 5 candidates\n",
    "    print(f\"{i}: {title_candidates['clean_title'].iloc[i]}\")\n",
    "\n",
    "# Ask user to choose one of the available movies\n",
    "title_index = int(input(\"\\nChoose the movie by entering the corresponding index: \"))\n",
    "\n",
    "# Validate the choice\n",
    "if title_index in range(len(title_candidates)):\n",
    "    print(\"\\nWe have the following recommendations:\")\n",
    "    print(recommendation_results(user_input, title_index))\n",
    "else:\n",
    "    print(\"Sorry, invalid choice. Please try again.\")\n"
   ]
  }
 ],
 "metadata": {
  "kernelspec": {
   "display_name": "Python 3",
   "language": "python",
   "name": "python3"
  },
  "language_info": {
   "codemirror_mode": {
    "name": "ipython",
    "version": 3
   },
   "file_extension": ".py",
   "mimetype": "text/x-python",
   "name": "python",
   "nbconvert_exporter": "python",
   "pygments_lexer": "ipython3",
   "version": "3.12.3"
  }
 },
 "nbformat": 4,
 "nbformat_minor": 2
}
